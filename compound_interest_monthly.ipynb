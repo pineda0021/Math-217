{
  "nbformat": 4,
  "nbformat_minor": 0,
  "metadata": {
    "colab": {
      "provenance": []
    },
    "kernelspec": {
      "name": "python3",
      "display_name": "Python 3"
    },
    "language_info": {
      "name": "python"
    }
  },
  "cells": [
    {
      "cell_type": "code",
      "execution_count": null,
      "metadata": {
        "id": "ikhxma5y25gK"
      },
      "outputs": [],
      "source": [
        "import matplotlib.pyplot as plt\n",
        "\n",
        "def compound_interest_monthly_with_plot(P, r, n, t):\n",
        "    \"\"\"\n",
        "    Calculate the compound interest per month, track the total amount, and plot a time series graph.\n",
        "\n",
        "    Parameters:\n",
        "    P (float): Principal amount\n",
        "    r (float): Annual interest rate (as a decimal)\n",
        "    n (int): Number of times interest is compounded per year (e.g., 12 for monthly)\n",
        "    t (int): Time in years\n",
        "\n",
        "    Returns:\n",
        "    None: Prints monthly interest and total amount, and plots a time series graph.\n",
        "    \"\"\"\n",
        "    months = int(t * 12)  # Total number of months\n",
        "    total_amount = P  # Initialize total amount with the principal\n",
        "    total_amounts = []  # To store total amount at each month\n",
        "    month_numbers = []  # To store month numbers\n",
        "\n",
        "    # Calculate compound interest month by month\n",
        "    for month in range(1, months + 1):\n",
        "        interest = total_amount * (r / n)  # Interest for the current month\n",
        "        total_amount += interest  # Add monthly interest to the total amount\n",
        "\n",
        "        # Store values for plotting\n",
        "        total_amounts.append(total_amount)\n",
        "        month_numbers.append(month)\n",
        "\n",
        "        # Print the results for each month\n",
        "        print(f\"Month {month}: Interest = ${interest:.2f}, Total = ${total_amount:.2f}\")\n",
        "\n",
        "    # Final result\n",
        "    print(f\"\\nTotal amount after {months} months: ${total_amount:.2f}\")\n",
        "\n",
        "    # Plot the time series graph\n",
        "    plt.figure(figsize=(8, 5))\n",
        "    plt.plot(month_numbers, total_amounts, marker='o', color='b', linestyle='-', label='Total Amount')\n",
        "    plt.title('Compound Interest Growth Over Time')\n",
        "    plt.xlabel('Month')\n",
        "    plt.ylabel('Total Amount ($)')\n",
        "    plt.grid(True)\n",
        "    plt.legend()\n",
        "    plt.show()\n",
        "\n",
        "# Example usage of the function\n",
        "compound_interest_monthly_with_plot(20000, 0.06, 12, 1)"
      ]
    }
  ]
}